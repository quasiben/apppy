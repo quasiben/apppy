{
 "metadata": {
  "signature": "sha256:d491fdfd1d71566f0d4b4b36de67fd6839137979a7aedadd664c74c98a9f9e22"
 },
 "nbformat": 3,
 "nbformat_minor": 0,
 "worksheets": [
  {
   "cells": [
    {
     "cell_type": "code",
     "collapsed": false,
     "input": [
      "from IPython.html.widgets import interact, PopupWidget, HTMLWidget, ContainerWidget\n",
      "from IPython.display import display"
     ],
     "language": "python",
     "metadata": {},
     "outputs": [],
     "prompt_number": 1
    },
    {
     "cell_type": "code",
     "collapsed": false,
     "input": [
      "def load_file(load=False):\n",
      "    with open(\"../cell_parsing/cell_parser.py\") as f:\n",
      "        return ''.join(f.readlines())"
     ],
     "language": "python",
     "metadata": {},
     "outputs": [],
     "prompt_number": 2
    },
    {
     "cell_type": "code",
     "collapsed": false,
     "input": [
      "from pygments import highlight\n",
      "from pygments.lexers import PythonLexer\n",
      "from pygments.formatters import HtmlFormatter\n",
      "from IPython.display import display, HTML\n",
      "\n",
      "formatter = HtmlFormatter()\n",
      "lexer = PythonLexer()\n",
      "# publish the CSS for pygments highlighting\n",
      "\n",
      "display(HTML(\"\"\"\n",
      "<style type='text/css'>\n",
      "%s\n",
      "</style>\n",
      "\"\"\" % formatter.get_style_defs()\n",
      "))\n",
      "\n",
      "code = 'print \"Hello World\"'\n",
      "HTML(highlight(code, lexer, formatter))"
     ],
     "language": "python",
     "metadata": {},
     "outputs": [
      {
       "html": [
        "\n",
        "<style type='text/css'>\n",
        ".hll { background-color: #ffffcc }\n",
        ".c { color: #408080; font-style: italic } /* Comment */\n",
        ".err { border: 1px solid #FF0000 } /* Error */\n",
        ".k { color: #008000; font-weight: bold } /* Keyword */\n",
        ".o { color: #666666 } /* Operator */\n",
        ".cm { color: #408080; font-style: italic } /* Comment.Multiline */\n",
        ".cp { color: #BC7A00 } /* Comment.Preproc */\n",
        ".c1 { color: #408080; font-style: italic } /* Comment.Single */\n",
        ".cs { color: #408080; font-style: italic } /* Comment.Special */\n",
        ".gd { color: #A00000 } /* Generic.Deleted */\n",
        ".ge { font-style: italic } /* Generic.Emph */\n",
        ".gr { color: #FF0000 } /* Generic.Error */\n",
        ".gh { color: #000080; font-weight: bold } /* Generic.Heading */\n",
        ".gi { color: #00A000 } /* Generic.Inserted */\n",
        ".go { color: #888888 } /* Generic.Output */\n",
        ".gp { color: #000080; font-weight: bold } /* Generic.Prompt */\n",
        ".gs { font-weight: bold } /* Generic.Strong */\n",
        ".gu { color: #800080; font-weight: bold } /* Generic.Subheading */\n",
        ".gt { color: #0044DD } /* Generic.Traceback */\n",
        ".kc { color: #008000; font-weight: bold } /* Keyword.Constant */\n",
        ".kd { color: #008000; font-weight: bold } /* Keyword.Declaration */\n",
        ".kn { color: #008000; font-weight: bold } /* Keyword.Namespace */\n",
        ".kp { color: #008000 } /* Keyword.Pseudo */\n",
        ".kr { color: #008000; font-weight: bold } /* Keyword.Reserved */\n",
        ".kt { color: #B00040 } /* Keyword.Type */\n",
        ".m { color: #666666 } /* Literal.Number */\n",
        ".s { color: #BA2121 } /* Literal.String */\n",
        ".na { color: #7D9029 } /* Name.Attribute */\n",
        ".nb { color: #008000 } /* Name.Builtin */\n",
        ".nc { color: #0000FF; font-weight: bold } /* Name.Class */\n",
        ".no { color: #880000 } /* Name.Constant */\n",
        ".nd { color: #AA22FF } /* Name.Decorator */\n",
        ".ni { color: #999999; font-weight: bold } /* Name.Entity */\n",
        ".ne { color: #D2413A; font-weight: bold } /* Name.Exception */\n",
        ".nf { color: #0000FF } /* Name.Function */\n",
        ".nl { color: #A0A000 } /* Name.Label */\n",
        ".nn { color: #0000FF; font-weight: bold } /* Name.Namespace */\n",
        ".nt { color: #008000; font-weight: bold } /* Name.Tag */\n",
        ".nv { color: #19177C } /* Name.Variable */\n",
        ".ow { color: #AA22FF; font-weight: bold } /* Operator.Word */\n",
        ".w { color: #bbbbbb } /* Text.Whitespace */\n",
        ".mf { color: #666666 } /* Literal.Number.Float */\n",
        ".mh { color: #666666 } /* Literal.Number.Hex */\n",
        ".mi { color: #666666 } /* Literal.Number.Integer */\n",
        ".mo { color: #666666 } /* Literal.Number.Oct */\n",
        ".sb { color: #BA2121 } /* Literal.String.Backtick */\n",
        ".sc { color: #BA2121 } /* Literal.String.Char */\n",
        ".sd { color: #BA2121; font-style: italic } /* Literal.String.Doc */\n",
        ".s2 { color: #BA2121 } /* Literal.String.Double */\n",
        ".se { color: #BB6622; font-weight: bold } /* Literal.String.Escape */\n",
        ".sh { color: #BA2121 } /* Literal.String.Heredoc */\n",
        ".si { color: #BB6688; font-weight: bold } /* Literal.String.Interpol */\n",
        ".sx { color: #008000 } /* Literal.String.Other */\n",
        ".sr { color: #BB6688 } /* Literal.String.Regex */\n",
        ".s1 { color: #BA2121 } /* Literal.String.Single */\n",
        ".ss { color: #19177C } /* Literal.String.Symbol */\n",
        ".bp { color: #008000 } /* Name.Builtin.Pseudo */\n",
        ".vc { color: #19177C } /* Name.Variable.Class */\n",
        ".vg { color: #19177C } /* Name.Variable.Global */\n",
        ".vi { color: #19177C } /* Name.Variable.Instance */\n",
        ".il { color: #666666 } /* Literal.Number.Integer.Long */\n",
        "</style>\n"
       ],
       "metadata": {},
       "output_type": "display_data",
       "text": [
        "<IPython.core.display.HTML at 0x104a09190>"
       ]
      },
      {
       "html": [
        "<div class=\"highlight\"><pre><span class=\"k\">print</span> <span class=\"s\">&quot;Hello World&quot;</span>\n",
        "</pre></div>\n"
       ],
       "metadata": {},
       "output_type": "pyout",
       "prompt_number": 3,
       "text": [
        "<IPython.core.display.HTML at 0x104a20bd0>"
       ]
      }
     ],
     "prompt_number": 3
    },
    {
     "cell_type": "code",
     "collapsed": false,
     "input": [
      "popup = PopupWidget()\n",
      "popup.description = \"Source Code Widget\"\n",
      "popup.button_text = \"Render Window\"\n",
      "popup.set_css({\n",
      "    'width': '580px',\n",
      "    'height': '350px'}, selector='modal')\n",
      "\n",
      "modal_body = ContainerWidget()\n",
      "modal_body.set_css('overflow-y', 'scroll','overflow-x')\n",
      "\n",
      "\n",
      "html_widget = HTMLWidget(value = highlight(load_file(), lexer, formatter))\n",
      "html_widget.set_css({'width': '580px',\n",
      "                    'height': '350px',\n",
      "                    'font-size':'100px',\n",
      "                    'overflow-y':'true', 'scroll':'true'})\n",
      "\n",
      "modal_body_label = html_widget\n",
      "modal_body.children = [modal_body_label]\n",
      "\n",
      "popup.children = [html_widget]\n",
      "display(popup)"
     ],
     "language": "python",
     "metadata": {},
     "outputs": [],
     "prompt_number": 5
    },
    {
     "cell_type": "code",
     "collapsed": false,
     "input": [],
     "language": "python",
     "metadata": {},
     "outputs": []
    }
   ],
   "metadata": {}
  }
 ]
}